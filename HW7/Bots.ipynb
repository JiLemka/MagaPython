{
  "cells": [
    {
      "cell_type": "markdown",
      "id": "9f11d603",
      "metadata": {},
      "source": [
        "# Боты в телеге"
      ]
    },
    {
      "cell_type": "markdown",
      "id": "8143d530",
      "metadata": {},
      "source": [
        "## 1 Проверяет доступность к сайту"
      ]
    },
    {
      "cell_type": "code",
      "execution_count": 1,
      "id": "1f6a0b69",
      "metadata": {},
      "outputs": [
        {
          "name": "stdout",
          "output_type": "stream",
          "text": [
            "Requirement already satisfied: pytelegrambotapi in c:\\users\\anton\\appdata\\local\\programs\\python\\python39\\lib\\site-packages (4.14.0)\n",
            "Requirement already satisfied: requests in c:\\users\\anton\\appdata\\local\\programs\\python\\python39\\lib\\site-packages (from pytelegrambotapi) (2.28.2)\n",
            "Requirement already satisfied: charset-normalizer<4,>=2 in c:\\users\\anton\\appdata\\local\\programs\\python\\python39\\lib\\site-packages (from requests->pytelegrambotapi) (3.1.0)\n",
            "Requirement already satisfied: idna<4,>=2.5 in c:\\users\\anton\\appdata\\local\\programs\\python\\python39\\lib\\site-packages (from requests->pytelegrambotapi) (3.4)\n",
            "Requirement already satisfied: urllib3<1.27,>=1.21.1 in c:\\users\\anton\\appdata\\local\\programs\\python\\python39\\lib\\site-packages (from requests->pytelegrambotapi) (1.26.15)\n",
            "Requirement already satisfied: certifi>=2017.4.17 in c:\\users\\anton\\appdata\\local\\programs\\python\\python39\\lib\\site-packages (from requests->pytelegrambotapi) (2022.12.7)\n",
            "Note: you may need to restart the kernel to use updated packages.\n"
          ]
        },
        {
          "name": "stderr",
          "output_type": "stream",
          "text": [
            "\n",
            "[notice] A new release of pip is available: 23.1.2 -> 23.3.1\n",
            "[notice] To update, run: python.exe -m pip install --upgrade pip\n"
          ]
        }
      ],
      "source": [
        "pip install pytelegrambotapi"
      ]
    },
    {
      "cell_type": "code",
      "execution_count": null,
      "id": "e16ff133",
      "metadata": {},
      "outputs": [
        {
          "name": "stderr",
          "output_type": "stream",
          "text": [
            "2023-12-12 18:42:22,000 (__init__.py:966 MainThread) ERROR - TeleBot: \"Infinity polling: polling exited\"\n",
            "2023-12-12 18:42:22,001 (__init__.py:968 MainThread) ERROR - TeleBot: \"Break infinity polling\"\n"
          ]
        }
      ],
      "source": [
        "import telebot\n",
        "from urllib.parse import urlparse\n",
        "from telebot import types\n",
        "import requests\n",
        "\n",
        "bot = telebot.TeleBot('')\n",
        "\n",
        "def check_site(url):\n",
        "    parsed = urlparse(url,scheme='http')\n",
        "    url = f'''{parsed.scheme}://{parsed.netloc if parsed.netloc!='' else 'www'}.{parsed.path}#{parsed.fragment}'''\n",
        "    print(url)\n",
        "    response = requests.get(url)\n",
        "    if(response.status_code == 200):\n",
        "        return True\n",
        "    return False\n",
        "\n",
        "@bot.message_handler(content_types = [\"text\"])\n",
        "def handle_text(message):\n",
        "    text:str = message.text\n",
        "    if (text.startswith('/')):\n",
        "        if (text.startswith('/start')):\n",
        "            bot.send_message(message.from_user.id, text = 'Введите ссылку для проверки доступности сайта')\n",
        "        else:\n",
        "            bot.send_message(message.from_user.id, \"Неизвестная команда\")\n",
        "    else:\n",
        "        if(check_site(text)):\n",
        "            bot.send_message(message.from_user.id, f'Сайт по ссылке: {text}  доступен')\n",
        "        else:\n",
        "            bot.send_message(message.from_user.id, f'Сайт по ссылке: {text}  недоступен')\n",
        "\n",
        "@bot.message_handler(commands = [\"start\"])\n",
        "def start(k, res = False):\n",
        "    print(k)\n",
        "    bot.send_message(k.chat.id, 'Привет')\n",
        "bot.infinity_polling()"
      ]
    },
    {
      "cell_type": "markdown",
      "id": "e965161f",
      "metadata": {},
      "source": [
        "## 2 Анализатор текста"
      ]
    },
    {
      "cell_type": "code",
      "execution_count": null,
      "id": "dc6835d2",
      "metadata": {},
      "outputs": [
        {
          "name": "stderr",
          "output_type": "stream",
          "text": [
            "2023-12-12 18:42:30,933 (__init__.py:966 MainThread) ERROR - TeleBot: \"Infinity polling: polling exited\"\n",
            "2023-12-12 18:42:30,934 (__init__.py:968 MainThread) ERROR - TeleBot: \"Break infinity polling\"\n"
          ]
        }
      ],
      "source": [
        "import telebot\n",
        "bot = telebot.TeleBot('')\n",
        "\n",
        "def create_stats(text):\n",
        "    w = text.split()\n",
        "    def replace_all(word,what):\n",
        "        for l in what:\n",
        "            word=word.replace(l,\"\")\n",
        "        return word\n",
        "    w = [replace_all(word.lower(),['.','!','?',',','-']) for word in w]\n",
        "    c = dict()\n",
        "    for word in w:\n",
        "        c[word] = c[word]+1 if word in c else 1\n",
        "    max_len = 0\n",
        "    word_max_len = None\n",
        "    for word,_ in c.items():\n",
        "        if(len(word)>max_len):\n",
        "            max_len = len(word)\n",
        "            word_max_len = word\n",
        "    max_cnt = 0\n",
        "    word_max_cnt = None\n",
        "    for word,cnt in c.items():\n",
        "        if ( cnt > max_cnt ):\n",
        "            word_max_cnt = word\n",
        "            max_cnt = cnt\n",
        "    return f\"Самое длинное слово в тексте: {word_max_len}, чаще всего встречается в тексте: {word_max_cnt}\"\n",
        "\n",
        "@bot.message_handler(content_types=[\"text\"])\n",
        "def handle_text(message):\n",
        "    text:str = message.text\n",
        "    if (text.startswith('/')):\n",
        "        if (text.startswith('/start')):\n",
        "            bot.send_message(message.from_user.id, \"Здарова бандит!\")\n",
        "        else:\n",
        "            bot.send_message(message.from_user.id, \"Неизвестная команда\")\n",
        "    else:\n",
        "        stats = create_stats(text)\n",
        "        bot.send_message(message.from_user.id, stats)\n",
        "@bot.message_handler(commands=[\"start\"])\n",
        "def start(k, res = False):\n",
        "    print(k)\n",
        "    bot.send_message(k.chat.id, 'Hello!')\n",
        "bot.infinity_polling()"
      ]
    },
    {
      "cell_type": "markdown",
      "id": "6fc4b570",
      "metadata": {},
      "source": [
        "## 3 бот калькулятор"
      ]
    },
    {
      "cell_type": "code",
      "execution_count": 8,
      "id": "512ca238",
      "metadata": {},
      "outputs": [
        {
          "name": "stdout",
          "output_type": "stream",
          "text": [
            "Collecting python-telegram-bot\n",
            "  Downloading python_telegram_bot-20.7-py3-none-any.whl (552 kB)\n",
            "                                              0.0/552.6 kB ? eta -:--:--\n",
            "     --                                      30.7/552.6 kB 1.4 MB/s eta 0:00:01\n",
            "     --                                    41.0/552.6 kB 393.8 kB/s eta 0:00:02\n",
            "     -------                              112.6/552.6 kB 939.4 kB/s eta 0:00:01\n",
            "     -------                              112.6/552.6 kB 939.4 kB/s eta 0:00:01\n",
            "     -------------------                    276.5/552.6 kB 1.4 MB/s eta 0:00:01\n",
            "     ---------------------                  307.2/552.6 kB 1.4 MB/s eta 0:00:01\n",
            "     --------------------------------       471.0/552.6 kB 1.7 MB/s eta 0:00:01\n",
            "     -------------------------------------  542.7/552.6 kB 1.8 MB/s eta 0:00:01\n",
            "     -------------------------------------- 552.6/552.6 kB 1.7 MB/s eta 0:00:00\n",
            "Collecting httpx~=0.25.2 (from python-telegram-bot)\n",
            "  Downloading httpx-0.25.2-py3-none-any.whl (74 kB)\n",
            "                                              0.0/75.0 kB ? eta -:--:--\n",
            "     ---------------------------------------- 75.0/75.0 kB 2.1 MB/s eta 0:00:00\n",
            "Collecting anyio (from httpx~=0.25.2->python-telegram-bot)\n",
            "  Downloading anyio-4.1.0-py3-none-any.whl (83 kB)\n",
            "                                              0.0/83.9 kB ? eta -:--:--\n",
            "     ---------------------------------------- 83.9/83.9 kB 2.3 MB/s eta 0:00:00\n",
            "Requirement already satisfied: certifi in c:\\users\\anton\\appdata\\local\\programs\\python\\python39\\lib\\site-packages (from httpx~=0.25.2->python-telegram-bot) (2022.12.7)\n",
            "Collecting httpcore==1.* (from httpx~=0.25.2->python-telegram-bot)\n",
            "  Downloading httpcore-1.0.2-py3-none-any.whl (76 kB)\n",
            "                                              0.0/76.9 kB ? eta -:--:--\n",
            "     ---------------------------------------- 76.9/76.9 kB 2.2 MB/s eta 0:00:00\n",
            "Requirement already satisfied: idna in c:\\users\\anton\\appdata\\local\\programs\\python\\python39\\lib\\site-packages (from httpx~=0.25.2->python-telegram-bot) (3.4)\n",
            "Collecting sniffio (from httpx~=0.25.2->python-telegram-bot)\n",
            "  Downloading sniffio-1.3.0-py3-none-any.whl (10 kB)\n",
            "Collecting h11<0.15,>=0.13 (from httpcore==1.*->httpx~=0.25.2->python-telegram-bot)\n",
            "  Downloading h11-0.14.0-py3-none-any.whl (58 kB)\n",
            "                                              0.0/58.3 kB ? eta -:--:--\n",
            "     ---------------------------------------- 58.3/58.3 kB 1.5 MB/s eta 0:00:00\n",
            "Collecting exceptiongroup>=1.0.2 (from anyio->httpx~=0.25.2->python-telegram-bot)\n",
            "  Downloading exceptiongroup-1.2.0-py3-none-any.whl (16 kB)\n",
            "Installing collected packages: sniffio, h11, exceptiongroup, httpcore, anyio, httpx, python-telegram-bot\n",
            "Successfully installed anyio-4.1.0 exceptiongroup-1.2.0 h11-0.14.0 httpcore-1.0.2 httpx-0.25.2 python-telegram-bot-20.7 sniffio-1.3.0\n",
            "Note: you may need to restart the kernel to use updated packages.\n"
          ]
        },
        {
          "name": "stderr",
          "output_type": "stream",
          "text": [
            "  WARNING: The script httpx.exe is installed in 'c:\\Users\\anton\\AppData\\Local\\Programs\\Python\\Python39\\Scripts' which is not on PATH.\n",
            "  Consider adding this directory to PATH or, if you prefer to suppress this warning, use --no-warn-script-location.\n",
            "\n",
            "[notice] A new release of pip is available: 23.1.2 -> 23.3.1\n",
            "[notice] To update, run: python.exe -m pip install --upgrade pip\n"
          ]
        }
      ],
      "source": [
        "pip install python-telegram-bot"
      ]
    },
    {
      "cell_type": "code",
      "execution_count": 2,
      "id": "4dc68840",
      "metadata": {},
      "outputs": [],
      "source": [
        "import telebot, math, time\n",
        "\n",
        "bot = telebot.TeleBot('', parse_mode='html')\n",
        "\n",
        "value = ''\n",
        "old_value = ''\n",
        "keybord = telebot.types.InlineKeyboardMarkup()\n",
        "keybord.row( telebot.types.InlineKeyboardButton('🧹', callback_data='c'),\n",
        "             telebot.types.InlineKeyboardButton('◀️', callback_data='<='),\n",
        "             telebot.types.InlineKeyboardButton('o/a', callback_data='oa'),\n",
        "             telebot.types.InlineKeyboardButton('o/g', callback_data='og'),\n",
        "             telebot.types.InlineKeyboardButton('➗', callback_data='/') )\n",
        "\n",
        "keybord.row( telebot.types.InlineKeyboardButton('7️⃣', callback_data='7'), \n",
        "             telebot.types.InlineKeyboardButton('8️⃣', callback_data='8'),\n",
        "             telebot.types.InlineKeyboardButton('9️⃣', callback_data='9'),\n",
        "             telebot.types.InlineKeyboardButton('✖️', callback_data='*') )\n",
        "\n",
        "keybord.row( telebot.types.InlineKeyboardButton('4️⃣', callback_data='4'), \n",
        "             telebot.types.InlineKeyboardButton('5️⃣', callback_data='5'),\n",
        "             telebot.types.InlineKeyboardButton('6️⃣', callback_data='6'),\n",
        "             telebot.types.InlineKeyboardButton('➖', callback_data='-') )\n",
        "\n",
        "keybord.row( telebot.types.InlineKeyboardButton('1️⃣', callback_data='1'), \n",
        "             telebot.types.InlineKeyboardButton('2️⃣', callback_data='2'),\n",
        "             telebot.types.InlineKeyboardButton('3️⃣', callback_data='3'),\n",
        "             telebot.types.InlineKeyboardButton('➕', callback_data='+') )\n",
        "\n",
        "keybord.row( telebot.types.InlineKeyboardButton('+/-', callback_data='pm'), \n",
        "             telebot.types.InlineKeyboardButton('0️⃣', callback_data='0'),\n",
        "             telebot.types.InlineKeyboardButton(',', callback_data=','),\n",
        "             telebot.types.InlineKeyboardButton('🟰', callback_data='=') )\n",
        "\n",
        "@bot.message_handler(commands=['start', 'calc'])\n",
        "def getMessage(message):\n",
        "    if(message.text == '/start'):\n",
        "        bot.reply_to(message, \"Hi 👋🏻 This is a calculator bot for Telegram\\n\\n👉🏻 Send /calc command to start the calculator!\")\n",
        "    elif (message.text == '/calc'):\n",
        "        global value\n",
        "        if value == '':\n",
        "            bot.send_message(message.from_user.id, \"0\", reply_markup=keybord)\n",
        "        else:\n",
        "            bot.send_message(message.from_user.id, value, reply_markup=keybord)\n",
        "\n",
        "@bot.callback_query_handler(func=lambda call: True)\n",
        "def callback_func(query):\n",
        "    global value, old_value\n",
        "    data = query.data\n",
        "    if data == 'no':\n",
        "        pass\n",
        "    elif data == 'oa':\n",
        "        list  = value.strip(',').split(',')\n",
        "        res = ''\n",
        "        for index in list:\n",
        "            res += index + \"+\"\n",
        "\n",
        "        value = str(eval(res.strip('+')) / len(list))\n",
        "    elif data == 'og':\n",
        "        list  = value.strip(',').split(',')\n",
        "        res = ''\n",
        "        for index in list:\n",
        "            res += index + \"*\"\n",
        "\n",
        "        value = str(math.pow(eval(res.strip('*')), (1 / len(list))))\n",
        "    elif data == 'c':\n",
        "        value = ''\n",
        "    elif data == '<=':\n",
        "        if value != '':\n",
        "            value = value[:len(value) - 1]\n",
        "    elif data == 'pm':\n",
        "        value = str(-1 * eval(value))\n",
        "    elif data == '=':\n",
        "        try:\n",
        "            value = str(eval(value))\n",
        "        except:\n",
        "            value = 'Error!' \n",
        "    else:\n",
        "        value += data\n",
        "\n",
        "    if ( value != old_value and value != '' ) or ('0' != old_value and value == '' ):\n",
        "        if value == '':\n",
        "            bot.edit_message_text(chat_id=query.message.chat.id, message_id=query.message.message_id, text='0', reply_markup=keybord)\n",
        "            old_value = '0'\n",
        "        else: \n",
        "            bot.edit_message_text(chat_id=query.message.chat.id, message_id=query.message.message_id, text=value, reply_markup=keybord)\n",
        "            old_value = value\n",
        "    \n",
        "    if value == 'Error!' : value = '0'\n",
        "\n",
        "while True:\n",
        "    try:\n",
        "        belgi = True\n",
        "        bot.polling(none_stop=True)\n",
        "    except Exception as e:\n",
        "        if belgi == True:\n",
        "            bot.send_message('admin telegram user id', f'<b>Server Error ❗️</b>\\n\\n<b>Content:</b>\\n<code>{e}</code>')\n",
        "            belgi = False\n",
        "        time.sleep(5)"
      ]
    },
    {
      "cell_type": "code",
      "execution_count": null,
      "id": "133a7d63",
      "metadata": {},
      "outputs": [],
      "source": []
    }
  ],
  "metadata": {
    "colab": {
      "provenance": []
    },
    "kernelspec": {
      "display_name": "Python 3 (ipykernel)",
      "language": "python",
      "name": "python3"
    },
    "language_info": {
      "codemirror_mode": {
        "name": "ipython",
        "version": 3
      },
      "file_extension": ".py",
      "mimetype": "text/x-python",
      "name": "python",
      "nbconvert_exporter": "python",
      "pygments_lexer": "ipython3",
      "version": "3.9.13"
    }
  },
  "nbformat": 4,
  "nbformat_minor": 5
}
