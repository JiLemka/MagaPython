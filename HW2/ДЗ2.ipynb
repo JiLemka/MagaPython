{
  "nbformat": 4,
  "nbformat_minor": 0,
  "metadata": {
    "colab": {
      "provenance": []
    },
    "kernelspec": {
      "name": "python3",
      "display_name": "Python 3"
    },
    "language_info": {
      "name": "python"
    }
  },
  "cells": [
    {
      "cell_type": "markdown",
      "source": [
        "**Задание 1**"
      ],
      "metadata": {
        "id": "U30aCDmjplQ0"
      }
    },
    {
      "cell_type": "code",
      "execution_count": 1,
      "metadata": {
        "colab": {
          "base_uri": "https://localhost:8080/"
        },
        "id": "n-3Kus_QpQvx",
        "outputId": "45849014-be98-4ad7-a5d1-367002b7be76"
      },
      "outputs": [
        {
          "output_type": "stream",
          "name": "stdout",
          "text": [
            "Введите номер месяца 13\n",
            "Несуществующий месяц\n"
          ]
        }
      ],
      "source": [
        "month = int(input(\"Введите номер месяца \"))\n",
        "months = [\"январь\", \"февраль\", \"март\", \"апрель\", \"май\", \"июнь\", \"июль\", \"август\", \"сентябрь\", \"октябрь\", \"ноябрь\", \"декабрь\"]\n",
        "\n",
        "if (month > 12 or month <= 0):\n",
        "    print(\"Несуществующий месяц\")\n",
        "\n",
        "else:\n",
        "    print(months[month - 1])"
      ]
    },
    {
      "cell_type": "markdown",
      "source": [
        "**Задание 2**"
      ],
      "metadata": {
        "id": "h_RybYlgptbM"
      }
    },
    {
      "cell_type": "code",
      "source": [
        "print(\"Введите два числа \")\n",
        "\n",
        "a = int(input())\n",
        "b = int(input())\n",
        "s = f\"НОД({a}, {b})\"\n",
        "\n",
        "while (a != 0 and b != 0):\n",
        "    if a > b:\n",
        "        a = a % b\n",
        "    else:\n",
        "        b = b % a\n",
        "\n",
        "print(f\"{s} = {a + b}\")"
      ],
      "metadata": {
        "colab": {
          "base_uri": "https://localhost:8080/"
        },
        "id": "ZbZdfFuDpvFt",
        "outputId": "40165c8e-6763-44f0-cdd1-52fc58148fde"
      },
      "execution_count": 2,
      "outputs": [
        {
          "output_type": "stream",
          "name": "stdout",
          "text": [
            "Введите два числа \n",
            "15\n",
            "5\n",
            "НОД(15, 5) = 5\n"
          ]
        }
      ]
    },
    {
      "cell_type": "markdown",
      "source": [
        "**Задание 3**"
      ],
      "metadata": {
        "id": "Boo7kGkDp1TN"
      }
    },
    {
      "cell_type": "code",
      "source": [
        "file='Gifochka.gif'\n",
        "extensions = ['png', 'jpg', 'jpeg', 'gif', 'svg']\n",
        "\n",
        "s = file.split('.')\n",
        "\n",
        "if s[-1] in extensions:\n",
        "    print(f\"{s[-1]} - допустимое разрешение\")\n",
        "\n",
        "else:\n",
        "    print(f\"{s[-1]} не поддерживается. Выберите другое расширение!\")"
      ],
      "metadata": {
        "id": "ob9pSachp3sk"
      },
      "execution_count": null,
      "outputs": []
    },
    {
      "cell_type": "markdown",
      "source": [
        "**Задание 4**"
      ],
      "metadata": {
        "id": "lHwdafJGqldI"
      }
    },
    {
      "cell_type": "code",
      "source": [
        "year=int(input(\"Введите год: \"))\n",
        "\n",
        "if (year % 400 == 0 or year % 4 == 0):\n",
        "    print(f\"{year} - високосный\")\n",
        "\n",
        "else:\n",
        "    print(f\"{year} - невисокосный год\")"
      ],
      "metadata": {
        "colab": {
          "base_uri": "https://localhost:8080/"
        },
        "id": "v3vAWoN4qoG9",
        "outputId": "592adaee-2bc8-4fc7-9d32-fcb74e332c5b"
      },
      "execution_count": 3,
      "outputs": [
        {
          "output_type": "stream",
          "name": "stdout",
          "text": [
            "Введите год: 2023\n",
            "2023 - невисокосный год\n"
          ]
        }
      ]
    }
  ]
}