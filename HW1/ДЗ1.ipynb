{
  "nbformat": 4,
  "nbformat_minor": 0,
  "metadata": {
    "colab": {
      "provenance": []
    },
    "kernelspec": {
      "name": "python3",
      "display_name": "Python 3"
    },
    "language_info": {
      "name": "python"
    }
  },
  "cells": [
    {
      "cell_type": "markdown",
      "source": [
        "**Задание 1**"
      ],
      "metadata": {
        "id": "QOmJqYScmRDA"
      }
    },
    {
      "cell_type": "code",
      "execution_count": 3,
      "metadata": {
        "colab": {
          "base_uri": "https://localhost:8080/"
        },
        "id": "6aWX2pJ1mKo8",
        "outputId": "3e06fbf4-c78c-4ecc-de12-2518a175cfee"
      },
      "outputs": [
        {
          "output_type": "stream",
          "name": "stdout",
          "text": [
            "0:6:23:20\n"
          ]
        }
      ],
      "source": [
        "seconds = 23000\n",
        "days = seconds // (60 * 60 * 24)\n",
        "seconds %= 24 * 60 * 60\n",
        "hours = seconds // (60 * 60)\n",
        "seconds %= 60 * 60\n",
        "minutes = seconds // 60\n",
        "seconds %= 60\n",
        "print(days, hours, minutes, seconds, sep = \":\")"
      ]
    },
    {
      "cell_type": "markdown",
      "source": [
        "**Задание 2**"
      ],
      "metadata": {
        "id": "pXprdscdnUsJ"
      }
    },
    {
      "cell_type": "code",
      "source": [
        "a = float(input(\"Введите число: \"))\n",
        "b = float(input(\"Введите число: \"))\n",
        "operator = input(\"Введите оператор: \")\n",
        "\n",
        "if operator == \"+\":\n",
        "    print(\"Ответ: \", a + b)\n",
        "elif operator == \"-\":\n",
        "    print(\"Ответ: \", a - b)\n",
        "elif operator == \"*\":\n",
        "    print(\"Ответ: \", a * b)\n",
        "elif operator == \"/\":\n",
        "    print(\"Ответ: \", a / b)\n",
        "else:\n",
        "    print(\"Такого оператора нет\")"
      ],
      "metadata": {
        "colab": {
          "base_uri": "https://localhost:8080/"
        },
        "id": "QXc2jkpXnTzs",
        "outputId": "afd8e62a-0e18-45ca-800b-0c36f903fce2"
      },
      "execution_count": 2,
      "outputs": [
        {
          "output_type": "stream",
          "name": "stdout",
          "text": [
            "Введите число: 3\n",
            "Введите число: 6\n",
            "Введите оператор: +\n",
            "Ответ:  9.0\n"
          ]
        }
      ]
    },
    {
      "cell_type": "markdown",
      "source": [
        "**Задание 3**"
      ],
      "metadata": {
        "id": "ILVZtYjvn2l_"
      }
    },
    {
      "cell_type": "code",
      "source": [
        "s1 = input()\n",
        "s2 = input()\n",
        "\n",
        "print(s1 + \"$\" + s2)\n",
        "print(s1, s2, sep = \"$\")"
      ],
      "metadata": {
        "colab": {
          "base_uri": "https://localhost:8080/"
        },
        "id": "2ANEwGxdn9VY",
        "outputId": "1b4ac4d4-f0e1-4c8b-d6ee-f2211005023a"
      },
      "execution_count": 4,
      "outputs": [
        {
          "output_type": "stream",
          "name": "stdout",
          "text": [
            "Привет\n",
            "Мир\n",
            "Привет$Мир\n",
            "Привет$Мир\n"
          ]
        }
      ]
    },
    {
      "cell_type": "markdown",
      "source": [
        "**Задание 4**"
      ],
      "metadata": {
        "id": "NvtDR45toj2K"
      }
    },
    {
      "cell_type": "code",
      "source": [
        "name = input('Имя: ')\n",
        "age = int(input('Возраст: '))\n",
        "\n",
        "print(f\"С Днем Рождения, {name}!\\n\"*age)"
      ],
      "metadata": {
        "colab": {
          "base_uri": "https://localhost:8080/"
        },
        "id": "rl8jkyEXolqR",
        "outputId": "9bfc5755-66a2-4737-b46d-22e5e7e1a1d2"
      },
      "execution_count": 5,
      "outputs": [
        {
          "output_type": "stream",
          "name": "stdout",
          "text": [
            "Имя: Тони\n",
            "Возраст: 22\n",
            "С Днем Рождения, Тони!\n",
            "С Днем Рождения, Тони!\n",
            "С Днем Рождения, Тони!\n",
            "С Днем Рождения, Тони!\n",
            "С Днем Рождения, Тони!\n",
            "С Днем Рождения, Тони!\n",
            "С Днем Рождения, Тони!\n",
            "С Днем Рождения, Тони!\n",
            "С Днем Рождения, Тони!\n",
            "С Днем Рождения, Тони!\n",
            "С Днем Рождения, Тони!\n",
            "С Днем Рождения, Тони!\n",
            "С Днем Рождения, Тони!\n",
            "С Днем Рождения, Тони!\n",
            "С Днем Рождения, Тони!\n",
            "С Днем Рождения, Тони!\n",
            "С Днем Рождения, Тони!\n",
            "С Днем Рождения, Тони!\n",
            "С Днем Рождения, Тони!\n",
            "С Днем Рождения, Тони!\n",
            "С Днем Рождения, Тони!\n",
            "С Днем Рождения, Тони!\n",
            "\n"
          ]
        }
      ]
    }
  ]
}