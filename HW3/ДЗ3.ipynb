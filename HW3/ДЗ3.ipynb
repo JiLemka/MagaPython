{
  "nbformat": 4,
  "nbformat_minor": 0,
  "metadata": {
    "colab": {
      "provenance": []
    },
    "kernelspec": {
      "name": "python3",
      "display_name": "Python 3"
    },
    "language_info": {
      "name": "python"
    }
  },
  "cells": [
    {
      "cell_type": "markdown",
      "source": [
        "**Задание 1**"
      ],
      "metadata": {
        "id": "U30aCDmjplQ0"
      }
    },
    {
      "cell_type": "code",
      "execution_count": 4,
      "metadata": {
        "colab": {
          "base_uri": "https://localhost:8080/"
        },
        "id": "n-3Kus_QpQvx",
        "outputId": "981e4f75-20cc-44c7-b2de-9c0a0b4c5de3"
      },
      "outputs": [
        {
          "output_type": "stream",
          "name": "stdout",
          "text": [
            "Введите число 22\n",
            "Введите степень N 2\n",
            "Ответ: 4.69\n"
          ]
        }
      ],
      "source": [
        "x = float(input(\"Введите число \"))\n",
        "deg = float(input(\"Введите степень N \"))\n",
        "\n",
        "def sqrt(x, deg = 2):\n",
        "    return x ** (1/deg);\n",
        "\n",
        "a = sqrt(x, deg)\n",
        "print(f\"Ответ: {round(a, 3)}\")"
      ]
    },
    {
      "cell_type": "markdown",
      "source": [
        "**Задание 2**"
      ],
      "metadata": {
        "id": "h_RybYlgptbM"
      }
    },
    {
      "cell_type": "code",
      "source": [
        "file=input(\"Название файла: \")\n",
        "\n",
        "def extcheck(name, extensions = ['png', 'jpg', 'jpeg', 'gif', 'svg']):\n",
        "    s = file.split('.')\n",
        "    if s[-1] in extensions:\n",
        "        print(f\"{s[-1]} - допустимое разрешение\")\n",
        "    else:\n",
        "        print(f\"{s[-1]} не поддерживается. Выберите другое расширение!\")\n",
        "\n",
        "extcheck(file)"
      ],
      "metadata": {
        "colab": {
          "base_uri": "https://localhost:8080/"
        },
        "id": "ZbZdfFuDpvFt",
        "outputId": "40165c8e-6763-44f0-cdd1-52fc58148fde"
      },
      "execution_count": 2,
      "outputs": [
        {
          "output_type": "stream",
          "name": "stdout",
          "text": [
            "Введите два числа \n",
            "15\n",
            "5\n",
            "НОД(15, 5) = 5\n"
          ]
        }
      ]
    },
    {
      "cell_type": "markdown",
      "source": [
        "**Задание 3**"
      ],
      "metadata": {
        "id": "Boo7kGkDp1TN"
      }
    },
    {
      "cell_type": "code",
      "source": [
        "dict_a = {1:10, 2:20}\n",
        "dict_b = {3:30, 4:40}\n",
        "dict_c = {5:50, 6:60}\n",
        "merge = dict()\n",
        "merge.update(dict_a)\n",
        "merge.update(dict_b)\n",
        "merge.update(dict_c)\n",
        "print(merge)"
      ],
      "metadata": {
        "colab": {
          "base_uri": "https://localhost:8080/"
        },
        "id": "ob9pSachp3sk",
        "outputId": "2c06211f-1e2f-4c8c-b77f-ec11d6fcd222"
      },
      "execution_count": 5,
      "outputs": [
        {
          "output_type": "stream",
          "name": "stdout",
          "text": [
            "{1: 10, 2: 20, 3: 30, 4: 40, 5: 50, 6: 60}\n"
          ]
        }
      ]
    },
    {
      "cell_type": "markdown",
      "source": [
        "**Задание 4**"
      ],
      "metadata": {
        "id": "lHwdafJGqldI"
      }
    },
    {
      "cell_type": "code",
      "source": [
        "a = int(input(\"Введите число \"))\n",
        "\n",
        "def s(n):\n",
        "    s = 0\n",
        "    while n > 0:\n",
        "        s += n % 10\n",
        "        n = n // 10\n",
        "    return s\n",
        "\n",
        "\n",
        "print(s(a))"
      ],
      "metadata": {
        "colab": {
          "base_uri": "https://localhost:8080/"
        },
        "id": "v3vAWoN4qoG9",
        "outputId": "56947b37-c76a-44fc-e396-af5ac94c23df"
      },
      "execution_count": 6,
      "outputs": [
        {
          "output_type": "stream",
          "name": "stdout",
          "text": [
            "Введите число 14\n",
            "5\n"
          ]
        }
      ]
    },
    {
      "cell_type": "markdown",
      "source": [
        "**Задание 5**"
      ],
      "metadata": {
        "id": "dZUy1jgnrDdn"
      }
    },
    {
      "cell_type": "code",
      "source": [
        "numbers=[1,4,5]\n",
        "set_numbers = set(numbers)\n",
        "\n",
        "if len(numbers) != len(set_numbers):\n",
        "    print(\"Не все числа в последовательности уникальны\")\n",
        "else:\n",
        "    print(\"Все числа в последовательности - уникальны\")"
      ],
      "metadata": {
        "colab": {
          "base_uri": "https://localhost:8080/"
        },
        "id": "znfB8oHfrGCl",
        "outputId": "a0ad44ae-86f1-456d-8d84-59a77f8f414e"
      },
      "execution_count": 7,
      "outputs": [
        {
          "output_type": "stream",
          "name": "stdout",
          "text": [
            "Все числа в последовательности - уникальны\n"
          ]
        }
      ]
    },
    {
      "cell_type": "markdown",
      "source": [
        "**Задание 6**"
      ],
      "metadata": {
        "id": "HSLn1EJIrNhn"
      }
    },
    {
      "cell_type": "code",
      "source": [
        "def print_list(my_list):\n",
        "    for i, j in enumerate(my_list):\n",
        "        print(i, \" : \", j)\n",
        "\n",
        "print_list([\"я\", \"не\", \"в\", \"отпуск\" ])"
      ],
      "metadata": {
        "colab": {
          "base_uri": "https://localhost:8080/"
        },
        "id": "_mn5iM60rPfx",
        "outputId": "8296f417-e265-49bb-9672-13e743b9561d"
      },
      "execution_count": 8,
      "outputs": [
        {
          "output_type": "stream",
          "name": "stdout",
          "text": [
            "0  :  я\n",
            "1  :  не\n",
            "2  :  в\n",
            "3  :  отпуск\n"
          ]
        }
      ]
    },
    {
      "cell_type": "code",
      "source": [
        "def print_dict(my_dict):\n",
        "    for i in my_dict:\n",
        "        print(i, \":\", my_dict[i])\n",
        "print_dict({\"key1\": 2, \"key3\": False, \"Приветствие\": \"Hello\"})"
      ],
      "metadata": {
        "colab": {
          "base_uri": "https://localhost:8080/"
        },
        "id": "ktg2WBIVrSbQ",
        "outputId": "52d45df0-609a-4c7e-b775-8443d10d98bf"
      },
      "execution_count": 9,
      "outputs": [
        {
          "output_type": "stream",
          "name": "stdout",
          "text": [
            "key1 : 2\n",
            "key3 : False\n",
            "Приветствие : Hello\n"
          ]
        }
      ]
    },
    {
      "cell_type": "code",
      "source": [
        "def print_overlord(mydict):\n",
        "    for i in mydict:\n",
        "        if isinstance(mydict[i], list):\n",
        "            print_list(mydict[i])\n",
        "        elif isinstance(mydict[i], dict):\n",
        "            print_dict(mydict[i])\n",
        "        else:\n",
        "            print(mydict[i])\n",
        "        print(\"\\n\")\n",
        "\n",
        "print_overlord(dict(key1=1,\n",
        "            key2=[1, 2, 3, 4],\n",
        "            key3='Hello',\n",
        "            key4={\"ciao\":\"Mondo\", \"Привет\": \"О дивный мир\"}))"
      ],
      "metadata": {
        "colab": {
          "base_uri": "https://localhost:8080/"
        },
        "id": "QXXH-wSWrUwi",
        "outputId": "459b0c1f-5cda-4a24-ec7f-183d1c028e0c"
      },
      "execution_count": 10,
      "outputs": [
        {
          "output_type": "stream",
          "name": "stdout",
          "text": [
            "1\n",
            "\n",
            "\n",
            "0  :  1\n",
            "1  :  2\n",
            "2  :  3\n",
            "3  :  4\n",
            "\n",
            "\n",
            "Hello\n",
            "\n",
            "\n",
            "ciao : Mondo\n",
            "Привет : О дивный мир\n",
            "\n",
            "\n"
          ]
        }
      ]
    },
    {
      "cell_type": "markdown",
      "source": [
        "**Задание 1***"
      ],
      "metadata": {
        "id": "RS9hnZy1rpfx"
      }
    },
    {
      "cell_type": "code",
      "source": [
        "def word_count(phrase):\n",
        "    words = phrase.split(\" \")\n",
        "    for i in words:\n",
        "        print(i, sep=\"\\n\")\n",
        "    print(f\"Количество слов: {len(words)}\")\n",
        "\n",
        "word_count(\"Солнечные зайчики танцуют гопак на плечах весеннего тумана.\")"
      ],
      "metadata": {
        "colab": {
          "base_uri": "https://localhost:8080/"
        },
        "id": "y0G6Y0PZrs0W",
        "outputId": "bfe49769-4513-4f5e-84ce-1987c068207e"
      },
      "execution_count": 12,
      "outputs": [
        {
          "output_type": "stream",
          "name": "stdout",
          "text": [
            "Солнечные\n",
            "зайчики\n",
            "танцуют\n",
            "гопак\n",
            "на\n",
            "плечах\n",
            "весеннего\n",
            "тумана.\n",
            "Количество слов: 8\n"
          ]
        }
      ]
    },
    {
      "cell_type": "markdown",
      "source": [
        "**задание 2***"
      ],
      "metadata": {
        "id": "8iZVcJQOsD_1"
      }
    },
    {
      "cell_type": "code",
      "source": [
        "def word_weigth(phrase):\n",
        "    words = phrase.split(\" \")\n",
        "    symb = 0\n",
        "    for i in words:\n",
        "        symb += len(i)\n",
        "    summ = 0\n",
        "    for i in words:\n",
        "        print(f\"{i} : {len(i)/symb*100:.2f}%\")\n",
        "    print(f\"Количество слов {len(words)}\")\n",
        "\n",
        "word_weigth(\"Солнечные зайчики танцуют гопак на плечах весеннего тумана.\")"
      ],
      "metadata": {
        "colab": {
          "base_uri": "https://localhost:8080/"
        },
        "id": "6zqofUZ_sFgs",
        "outputId": "a2bbf006-c253-4f75-b08c-7823d25e99fc"
      },
      "execution_count": 13,
      "outputs": [
        {
          "output_type": "stream",
          "name": "stdout",
          "text": [
            "Солнечные : 17.31%\n",
            "зайчики : 13.46%\n",
            "танцуют : 13.46%\n",
            "гопак : 9.62%\n",
            "на : 3.85%\n",
            "плечах : 11.54%\n",
            "весеннего : 17.31%\n",
            "тумана. : 13.46%\n",
            "Количество слов 8\n"
          ]
        }
      ]
    }
  ]
}