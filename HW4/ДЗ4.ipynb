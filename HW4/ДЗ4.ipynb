{
  "nbformat": 4,
  "nbformat_minor": 0,
  "metadata": {
    "colab": {
      "provenance": []
    },
    "kernelspec": {
      "name": "python3",
      "display_name": "Python 3"
    },
    "language_info": {
      "name": "python"
    }
  },
  "cells": [
    {
      "cell_type": "markdown",
      "source": [
        "**Задание 1**"
      ],
      "metadata": {
        "id": "U30aCDmjplQ0"
      }
    },
    {
      "cell_type": "code",
      "execution_count": 14,
      "metadata": {
        "id": "n-3Kus_QpQvx"
      },
      "outputs": [],
      "source": [
        "with open(\"task-1.txt\", 'r', encoding = \"utf-8\") as file:\n",
        "    texts = file.read().split('\\n')"
      ]
    },
    {
      "cell_type": "code",
      "source": [
        "s = 0\n",
        "ots = []\n",
        "\n",
        "for l in texts:\n",
        "    s += int(l[-1])\n",
        "    if int(l[-1]) < 3:\n",
        "        ots.append(l[0:len(l) - 2])"
      ],
      "metadata": {
        "id": "zh_1BBr_tVd1"
      },
      "execution_count": 15,
      "outputs": []
    },
    {
      "cell_type": "code",
      "source": [
        "print(f\"Средный балл:{round(s / len(texts), 2)}\")\n",
        "print(f\"Список отстающих: {ots}\")"
      ],
      "metadata": {
        "colab": {
          "base_uri": "https://localhost:8080/"
        },
        "id": "CaytF5fDtXxp",
        "outputId": "515c7cfe-288c-481a-ca70-e90cd1cc8cfd"
      },
      "execution_count": 16,
      "outputs": [
        {
          "output_type": "stream",
          "name": "stdout",
          "text": [
            "Средный балл:3.18\n",
            "Список отстающих: ['Дмитриев Н.', 'Котов Д.', 'Бирюкова Н.', 'Лемонов Ю.']\n"
          ]
        }
      ]
    },
    {
      "cell_type": "markdown",
      "source": [
        "**Задание 2**"
      ],
      "metadata": {
        "id": "h_RybYlgptbM"
      }
    },
    {
      "cell_type": "code",
      "source": [
        "with open(\"task-2.txt\", 'r', encoding = \"utf-8\") as file:\n",
        "    texts = file.read()"
      ],
      "metadata": {
        "id": "ZbZdfFuDpvFt"
      },
      "execution_count": 17,
      "outputs": []
    },
    {
      "cell_type": "code",
      "source": [
        "lect = texts.count('лекц.')\n",
        "pract = texts.count('практ.')\n",
        "lab = texts.count('лаб.')"
      ],
      "metadata": {
        "id": "gZ7MlG06tf8H"
      },
      "execution_count": 18,
      "outputs": []
    },
    {
      "cell_type": "code",
      "source": [
        "print('Лекций:', lect)\n",
        "print('Практических:', pract)\n",
        "print('Лабораторных:', lab)"
      ],
      "metadata": {
        "colab": {
          "base_uri": "https://localhost:8080/"
        },
        "id": "PCb4CmeQtimz",
        "outputId": "e31751e0-276d-4f63-ad5f-882a9807d8e7"
      },
      "execution_count": 19,
      "outputs": [
        {
          "output_type": "stream",
          "name": "stdout",
          "text": [
            "Лекций: 2\n",
            "Практических: 2\n",
            "Лабораторных: 1\n"
          ]
        }
      ]
    },
    {
      "cell_type": "markdown",
      "source": [
        "**Задание 3**"
      ],
      "metadata": {
        "id": "Boo7kGkDp1TN"
      }
    },
    {
      "cell_type": "code",
      "source": [
        "pwd"
      ],
      "metadata": {
        "colab": {
          "base_uri": "https://localhost:8080/",
          "height": 36
        },
        "id": "ob9pSachp3sk",
        "outputId": "93d798c5-d6ce-4782-8128-81de0bfc76f5"
      },
      "execution_count": 20,
      "outputs": [
        {
          "output_type": "execute_result",
          "data": {
            "text/plain": [
              "'/content'"
            ],
            "application/vnd.google.colaboratory.intrinsic+json": {
              "type": "string"
            }
          },
          "metadata": {},
          "execution_count": 20
        }
      ]
    },
    {
      "cell_type": "code",
      "source": [
        "ls"
      ],
      "metadata": {
        "colab": {
          "base_uri": "https://localhost:8080/"
        },
        "id": "3lGa5MpntrBj",
        "outputId": "e913e23c-9a2a-4555-e258-4aa01d53f25c"
      },
      "execution_count": 21,
      "outputs": [
        {
          "output_type": "stream",
          "name": "stdout",
          "text": [
            "\u001b[0m\u001b[01;34msample_data\u001b[0m/  task-1.txt  task-2.txt  task-3.txt\n"
          ]
        }
      ]
    },
    {
      "cell_type": "markdown",
      "source": [
        "**Задание 4**"
      ],
      "metadata": {
        "id": "lHwdafJGqldI"
      }
    },
    {
      "cell_type": "code",
      "source": [
        "with open(\"task-3.txt\", 'r', encoding = \"utf-8\") as file:\n",
        "    texts = file.read()\n",
        "texts = texts.replace('.', '').replace('!', '').replace(',', '').replace(' — ', ' ').replace('-', ' ').replace('\\n', ' ').lower().split(' ')\n",
        "max = ''\n",
        "count = {}\n",
        "\n",
        "for w in texts:\n",
        "    if len(w) > len(max):\n",
        "        max = w\n",
        "    try:\n",
        "        count[w] += 1\n",
        "    except:\n",
        "        count[w] = 1\n",
        "\n",
        "count = sorted(count.items(), key=lambda item: item[1], reverse=True)\n",
        "print(f\"Самое часто встречающееся слово в тексте '{count[0][0]}' встречаeтся {count[0][1]} раз\")\n",
        "print(f\"Самое длинное слово в тексте {max}, длина {len(max)}\")"
      ],
      "metadata": {
        "colab": {
          "base_uri": "https://localhost:8080/"
        },
        "id": "kMCblty7t21J",
        "outputId": "f3d803ee-dab9-4410-e13a-5e5395f515b8"
      },
      "execution_count": 36,
      "outputs": [
        {
          "output_type": "stream",
          "name": "stdout",
          "text": [
            "Самое часто встречающееся слово в тексте 'и' встречаeтся 8 раз\n",
            "Самое длинное слово в тексте храброславленный, длина 16\n"
          ]
        }
      ]
    }
  ]
}